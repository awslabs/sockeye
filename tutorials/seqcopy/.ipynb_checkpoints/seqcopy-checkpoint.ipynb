{
 "cells": [
  {
   "cell_type": "code",
   "execution_count": 4,
   "metadata": {
    "colab": {
     "autoexec": {
      "startup": false,
      "wait_interval": 0
     }
    },
    "colab_type": "code",
    "id": "YsCelVqkiOg2"
   },
   "outputs": [
    {
     "name": "stderr",
     "output_type": "stream",
     "text": [
      "C:\\Users\\john\\AppData\\Local\\Continuum\\anaconda3\\lib\\site-packages\\h5py\\__init__.py:34: FutureWarning: Conversion of the second argument of issubdtype from `float` to `np.floating` is deprecated. In future, it will be treated as `np.float64 == np.dtype(float).type`.\n",
      "  from ._conv import register_converters as _register_converters\n",
      "C:\\Users\\john\\AppData\\Local\\Continuum\\anaconda3\\lib\\site-packages\\urllib3\\contrib\\pyopenssl.py:46: DeprecationWarning: OpenSSL.rand is deprecated - you should use os.urandom instead\n",
      "  import OpenSSL.SSL\n"
     ]
    }
   ],
   "source": [
    "import matplotlib\n",
    "import mxnet as mx\n",
    "import sockeye"
   ]
  },
  {
   "cell_type": "code",
   "execution_count": 5,
   "metadata": {
    "collapsed": true
   },
   "outputs": [],
   "source": [
    "%run genseqcopy.py"
   ]
  },
  {
   "cell_type": "code",
   "execution_count": null,
   "metadata": {
    "colab": {
     "autoexec": {
      "startup": false,
      "wait_interval": 0
     },
     "base_uri": "https://localhost:8080/",
     "height": 16136,
     "output_extras": [
      {
       "item_id": 12
      },
      {
       "item_id": 48
      },
      {
       "item_id": 82
      },
      {
       "item_id": 116
      },
      {
       "item_id": 150
      },
      {
       "item_id": 185
      },
      {
       "item_id": 219
      },
      {
       "item_id": 252
      },
      {
       "item_id": 287
      },
      {
       "item_id": 320
      },
      {
       "item_id": 354
      },
      {
       "item_id": 388
      },
      {
       "item_id": 421
      },
      {
       "item_id": 456
      },
      {
       "item_id": 489
      },
      {
       "item_id": 523
      },
      {
       "item_id": 555
      },
      {
       "item_id": 589
      },
      {
       "item_id": 621
      },
      {
       "item_id": 656
      },
      {
       "item_id": 690
      },
      {
       "item_id": 700
      }
     ]
    },
    "colab_type": "code",
    "executionInfo": {
     "elapsed": 5510600,
     "status": "ok",
     "timestamp": 1519433450668,
     "user": {
      "displayName": "Jack Rieth",
      "photoUrl": "https://lh3.googleusercontent.com/a/default-user=s128",
      "userId": "117896421028689511392"
     },
     "user_tz": 480
    },
    "id": "xeSN8-02ihDV",
    "outputId": "15692e89-bb37-46ca-e50e-11b1fe21c21c"
   },
   "outputs": [],
   "source": [
    "!python -m sockeye.train -s train.source \\\n",
    "              -t train.target \\\n",
    "              -vs dev.source \\\n",
    "              -vt dev.target \\\n",
    "              --num-embed 32 \\\n",
    "              --rnn-num-hidden 64 \\\n",
    "              --rnn-attention-type dot \\\n",
    "              --use-cpu \\\n",
    "              --metrics perplexity accuracy \\\n",
    "              --max-num-checkpoint-not-improved 3 \\\n",
    "              -o seqcopy_model"
   ]
  },
  {
   "cell_type": "code",
   "execution_count": 0,
   "metadata": {
    "colab": {
     "autoexec": {
      "startup": false,
      "wait_interval": 0
     }
    },
    "colab_type": "code",
    "collapsed": true,
    "id": "0P75p3mrVtFm"
   },
   "outputs": [],
   "source": []
  },
  {
   "cell_type": "code",
   "execution_count": 8,
   "metadata": {
    "colab": {
     "autoexec": {
      "startup": false,
      "wait_interval": 0
     },
     "base_uri": "https://localhost:8080/",
     "height": 309,
     "output_extras": [
      {
       "item_id": 1
      },
      {
       "item_id": 2
      }
     ]
    },
    "colab_type": "code",
    "executionInfo": {
     "elapsed": 2011,
     "status": "ok",
     "timestamp": 1519433726173,
     "user": {
      "displayName": "Jack Rieth",
      "photoUrl": "https://lh3.googleusercontent.com/a/default-user=s128",
      "userId": "117896421028689511392"
     },
     "user_tz": 480
    },
    "id": "kSPI1OmO9Sso",
    "outputId": "81d51f60-3e5f-47b6-d03d-22409c01ce5d"
   },
   "outputs": [
    {
     "name": "stdout",
     "output_type": "stream",
     "text": [
      "7 6 7 7 10 2 0 8 0 5 7 3 5 6 4 0 0 2 10 0\n"
     ]
    },
    {
     "name": "stderr",
     "output_type": "stream",
     "text": [
      "/usr/local/lib/python3.6/dist-packages/h5py/__init__.py:36: FutureWarning: Conversion of the second argument of issubdtype from `float` to `np.floating` is deprecated. In future, it will be treated as `np.float64 == np.dtype(float).type`.\n",
      "  from ._conv import register_converters as _register_converters\n",
      "[INFO:sockeye.utils] Sockeye version 1.17.0 commit 5dcb60da8767fe7c667b8073e19574d10c2bb84f\n",
      "[INFO:sockeye.utils] MXNet version 1.0.0\n",
      "[INFO:sockeye.utils] Command: /usr/local/lib/python3.6/dist-packages/sockeye/translate.py -m seqcopy_model --use-cpu\n",
      "[INFO:sockeye.utils] Arguments: Namespace(batch_size=1, beam_size=5, bucket_width=10, checkpoints=None, chunk_size=None, device_ids=[-1], disable_device_locking=False, ensemble_mode='linear', input=None, input_factors=None, json_input=False, length_penalty_alpha=1.0, length_penalty_beta=0.0, lock_dir='/tmp', max_input_len=None, max_output_length_num_stds=2, models=['seqcopy_model'], output=None, output_type='translation', quiet=False, restrict_lexicon=None, softmax_temperature=None, sure_align_threshold=0.9, use_cpu=True)\n",
      "[INFO:sockeye.vocab] Vocabulary (15 words) loaded from \"seqcopy_model/vocab.src.0.json\"\n",
      "[INFO:sockeye.vocab] Vocabulary (15 words) loaded from \"seqcopy_model/vocab.trg.json\"\n",
      "[INFO:sockeye.inference] Model version: 1.17.0\n",
      "[INFO:sockeye.model] ModelConfig loaded from \"seqcopy_model/config\"\n",
      "[INFO:sockeye.model] Config[_frozen=True, config_data=Config[_frozen=True, data_statistics=Config[_frozen=True, average_len_target_per_bucket=[None, 15.519466712028793, 25.508242514019614, 31.0, None, None, None, None, None, None], buckets=[(10, 10), (20, 20), (30, 30), (40, 40), (50, 50), (60, 60), (70, 70), (80, 80), (90, 90), (100, 100)], length_ratio_mean=1.0, length_ratio_std=0.0, max_observed_len_source=30, max_observed_len_target=31, num_discarded=0, num_sents=99000, num_sents_per_bucket=[0, 47029, 47255, 4716, 0, 0, 0, 0, 0, 0], num_tokens_source=1982453, num_tokens_target=2081453, num_unks_source=0, num_unks_target=0, size_vocab_source=15, size_vocab_target=15], max_seq_len_source=100, max_seq_len_target=100, num_source_factors=1], config_decoder=Config[_frozen=True, attention_config=Config[_frozen=True, config_coverage=None, input_previous_word=False, layer_normalization=False, num_heads=None, num_hidden=64, query_num_hidden=64, source_num_hidden=64, type=dot], attention_in_upper_layers=False, context_gating=False, hidden_dropout=0.0, layer_normalization=False, max_seq_len_source=100, rnn_config=Config[_frozen=True, cell_type=lstm, dropout_inputs=0.0, dropout_recurrent=0.0, dropout_states=0.0, first_residual_layer=2, forget_bias=0.0, num_hidden=64, num_layers=1, residual=False], state_init=last], config_embed_source=Config[_frozen=True, dropout=0.0, factor_configs=None, num_embed=32, num_factors=1, vocab_size=15], config_embed_target=Config[_frozen=True, dropout=0.0, factor_configs=None, num_embed=32, num_factors=1, vocab_size=15], config_encoder=Config[_frozen=True, conv_config=None, reverse_input=False, rnn_config=Config[_frozen=True, cell_type=lstm, dropout_inputs=0.0, dropout_recurrent=0.0, dropout_states=0.0, first_residual_layer=2, forget_bias=0.0, num_hidden=64, num_layers=1, residual=False]], config_loss=Config[_frozen=True, label_smoothing=0.0, name=cross-entropy, normalization_type=valid, vocab_size=15], vocab_source_size=15, vocab_target_size=15, weight_normalization=False, weight_tying=False, weight_tying_type=None]\n",
      "[INFO:sockeye.model] Loaded params from \"seqcopy_model/params.best\"\n",
      "[INFO:sockeye.inference] Translator (1 model(s) beam_size=5 ensemble_mode=None batch_size=1 buckets_source=[10, 20, 30])\n",
      "[INFO:__main__] Translating...\n",
      "[INFO:__main__] Processed 1 lines in 1 batches. Total time: 0.2543, sec/sent: 0.2543, sent/sec: 3.9323\n"
     ]
    }
   ],
   "source": [
    "%%bash\n",
    "echo \"7 6 7 7 10 2 0 8 0 5 7 3 5 6 4 0 0 2 10 0\" | \\\n",
    "  python -m sockeye.translate -m seqcopy_model --use-cpu"
   ]
  },
  {
   "cell_type": "code",
   "execution_count": 9,
   "metadata": {
    "colab": {
     "autoexec": {
      "startup": false,
      "wait_interval": 0
     },
     "base_uri": "https://localhost:8080/",
     "height": 309,
     "output_extras": [
      {
       "item_id": 1
      },
      {
       "item_id": 2
      }
     ]
    },
    "colab_type": "code",
    "executionInfo": {
     "elapsed": 2009,
     "status": "ok",
     "timestamp": 1519433783088,
     "user": {
      "displayName": "Jack Rieth",
      "photoUrl": "https://lh3.googleusercontent.com/a/default-user=s128",
      "userId": "117896421028689511392"
     },
     "user_tz": 480
    },
    "id": "6Iy1BKfcTkg4",
    "outputId": "db3e2ee9-c747-4cba-e9c3-ef3e8defde0c"
   },
   "outputs": [
    {
     "name": "stdout",
     "output_type": "stream",
     "text": [
      "7 9 7 7 10 2 0 8 0 5 7 3 5 6 0 8 0 2 10 0\n"
     ]
    },
    {
     "name": "stderr",
     "output_type": "stream",
     "text": [
      "/usr/local/lib/python3.6/dist-packages/h5py/__init__.py:36: FutureWarning: Conversion of the second argument of issubdtype from `float` to `np.floating` is deprecated. In future, it will be treated as `np.float64 == np.dtype(float).type`.\n",
      "  from ._conv import register_converters as _register_converters\n",
      "[INFO:sockeye.utils] Sockeye version 1.17.0 commit 5dcb60da8767fe7c667b8073e19574d10c2bb84f\n",
      "[INFO:sockeye.utils] MXNet version 1.0.0\n",
      "[INFO:sockeye.utils] Command: /usr/local/lib/python3.6/dist-packages/sockeye/translate.py -m seqcopy_model --use-cpu -c 3\n",
      "[INFO:sockeye.utils] Arguments: Namespace(batch_size=1, beam_size=5, bucket_width=10, checkpoints=[3], chunk_size=None, device_ids=[-1], disable_device_locking=False, ensemble_mode='linear', input=None, input_factors=None, json_input=False, length_penalty_alpha=1.0, length_penalty_beta=0.0, lock_dir='/tmp', max_input_len=None, max_output_length_num_stds=2, models=['seqcopy_model'], output=None, output_type='translation', quiet=False, restrict_lexicon=None, softmax_temperature=None, sure_align_threshold=0.9, use_cpu=True)\n",
      "[INFO:sockeye.vocab] Vocabulary (15 words) loaded from \"seqcopy_model/vocab.src.0.json\"\n",
      "[INFO:sockeye.vocab] Vocabulary (15 words) loaded from \"seqcopy_model/vocab.trg.json\"\n",
      "[INFO:sockeye.inference] Model version: 1.17.0\n",
      "[INFO:sockeye.model] ModelConfig loaded from \"seqcopy_model/config\"\n",
      "[INFO:sockeye.model] Config[_frozen=True, config_data=Config[_frozen=True, data_statistics=Config[_frozen=True, average_len_target_per_bucket=[None, 15.519466712028793, 25.508242514019614, 31.0, None, None, None, None, None, None], buckets=[(10, 10), (20, 20), (30, 30), (40, 40), (50, 50), (60, 60), (70, 70), (80, 80), (90, 90), (100, 100)], length_ratio_mean=1.0, length_ratio_std=0.0, max_observed_len_source=30, max_observed_len_target=31, num_discarded=0, num_sents=99000, num_sents_per_bucket=[0, 47029, 47255, 4716, 0, 0, 0, 0, 0, 0], num_tokens_source=1982453, num_tokens_target=2081453, num_unks_source=0, num_unks_target=0, size_vocab_source=15, size_vocab_target=15], max_seq_len_source=100, max_seq_len_target=100, num_source_factors=1], config_decoder=Config[_frozen=True, attention_config=Config[_frozen=True, config_coverage=None, input_previous_word=False, layer_normalization=False, num_heads=None, num_hidden=64, query_num_hidden=64, source_num_hidden=64, type=dot], attention_in_upper_layers=False, context_gating=False, hidden_dropout=0.0, layer_normalization=False, max_seq_len_source=100, rnn_config=Config[_frozen=True, cell_type=lstm, dropout_inputs=0.0, dropout_recurrent=0.0, dropout_states=0.0, first_residual_layer=2, forget_bias=0.0, num_hidden=64, num_layers=1, residual=False], state_init=last], config_embed_source=Config[_frozen=True, dropout=0.0, factor_configs=None, num_embed=32, num_factors=1, vocab_size=15], config_embed_target=Config[_frozen=True, dropout=0.0, factor_configs=None, num_embed=32, num_factors=1, vocab_size=15], config_encoder=Config[_frozen=True, conv_config=None, reverse_input=False, rnn_config=Config[_frozen=True, cell_type=lstm, dropout_inputs=0.0, dropout_recurrent=0.0, dropout_states=0.0, first_residual_layer=2, forget_bias=0.0, num_hidden=64, num_layers=1, residual=False]], config_loss=Config[_frozen=True, label_smoothing=0.0, name=cross-entropy, normalization_type=valid, vocab_size=15], vocab_source_size=15, vocab_target_size=15, weight_normalization=False, weight_tying=False, weight_tying_type=None]\n",
      "[INFO:sockeye.model] Loaded params from \"seqcopy_model/params.00003\"\n",
      "[INFO:sockeye.inference] Translator (1 model(s) beam_size=5 ensemble_mode=None batch_size=1 buckets_source=[10, 20, 30])\n",
      "[INFO:__main__] Translating...\n",
      "[INFO:__main__] Processed 1 lines in 1 batches. Total time: 0.2311, sec/sent: 0.2311, sent/sec: 4.3263\n"
     ]
    }
   ],
   "source": [
    "%%bash\n",
    "echo \"7 6 7 7 10 2 0 8 0 5 7 3 5 6 4 0 0 2 10 0\" | \\\n",
    "  python -m sockeye.translate -m seqcopy_model --use-cpu -c 3"
   ]
  }
 ],
 "metadata": {
  "colab": {
   "collapsed_sections": [],
   "default_view": {},
   "name": "seqcopy.ipynb",
   "provenance": [],
   "version": "0.3.2",
   "views": {}
  },
  "kernelspec": {
   "display_name": "Python 3",
   "language": "python",
   "name": "python3"
  },
  "language_info": {
   "codemirror_mode": {
    "name": "ipython",
    "version": 3
   },
   "file_extension": ".py",
   "mimetype": "text/x-python",
   "name": "python",
   "nbconvert_exporter": "python",
   "pygments_lexer": "ipython3",
   "version": "3.6.3"
  }
 },
 "nbformat": 4,
 "nbformat_minor": 1
}
